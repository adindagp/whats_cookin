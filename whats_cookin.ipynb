{
 "cells": [
  {
   "cell_type": "markdown",
   "id": "5af01918",
   "metadata": {},
   "source": [
    "# WHAT'S COOKIN"
   ]
  },
  {
   "cell_type": "markdown",
   "id": "fa39b134",
   "metadata": {},
   "source": [
    "##### 1. About the dataset:\n",
    "The dataset included ingredients from cuisines all over the region. No information on the dishes name and recipe. Only where it comes from and the ingredients.\n",
    "##### 2. The purpose:\n",
    "The original purpose of competition in Kaggle using this dataset is to create model for determining where the dishes come from just based on the ingredients.\n",
    "##### 3. In this notebook:\n",
    "At the end there will be model to determine dishes just based on the ingredients. However along the way, it will also ravel how geographical placement and history affect food ingredients across the region"
   ]
  },
  {
   "cell_type": "markdown",
   "id": "f19faf2f",
   "metadata": {},
   "source": [
    "### Module"
   ]
  },
  {
   "cell_type": "code",
   "execution_count": 44,
   "id": "faa229e0",
   "metadata": {},
   "outputs": [
    {
     "name": "stdout",
     "output_type": "stream",
     "text": [
      "Collecting wordcloud\n",
      "  Downloading wordcloud-1.8.2.2-cp39-cp39-win_amd64.whl (153 kB)\n",
      "Requirement already satisfied: numpy>=1.6.1 in c:\\users\\adinda gita\\anaconda3\\lib\\site-packages (from wordcloud) (1.21.5)\n",
      "Requirement already satisfied: pillow in c:\\users\\adinda gita\\anaconda3\\lib\\site-packages (from wordcloud) (9.0.1)\n",
      "Requirement already satisfied: matplotlib in c:\\users\\adinda gita\\anaconda3\\lib\\site-packages (from wordcloud) (3.5.1)\n",
      "Requirement already satisfied: pyparsing>=2.2.1 in c:\\users\\adinda gita\\anaconda3\\lib\\site-packages (from matplotlib->wordcloud) (3.0.4)\n",
      "Requirement already satisfied: kiwisolver>=1.0.1 in c:\\users\\adinda gita\\anaconda3\\lib\\site-packages (from matplotlib->wordcloud) (1.3.2)\n",
      "Requirement already satisfied: cycler>=0.10 in c:\\users\\adinda gita\\anaconda3\\lib\\site-packages (from matplotlib->wordcloud) (0.11.0)\n",
      "Requirement already satisfied: fonttools>=4.22.0 in c:\\users\\adinda gita\\anaconda3\\lib\\site-packages (from matplotlib->wordcloud) (4.25.0)\n",
      "Requirement already satisfied: python-dateutil>=2.7 in c:\\users\\adinda gita\\anaconda3\\lib\\site-packages (from matplotlib->wordcloud) (2.8.2)\n",
      "Requirement already satisfied: packaging>=20.0 in c:\\users\\adinda gita\\anaconda3\\lib\\site-packages (from matplotlib->wordcloud) (21.3)\n",
      "Requirement already satisfied: six>=1.5 in c:\\users\\adinda gita\\anaconda3\\lib\\site-packages (from python-dateutil>=2.7->matplotlib->wordcloud) (1.16.0)\n",
      "Installing collected packages: wordcloud\n",
      "Successfully installed wordcloud-1.8.2.2\n"
     ]
    }
   ],
   "source": [
    "!pip install wordcloud"
   ]
  },
  {
   "cell_type": "code",
   "execution_count": 45,
   "id": "70596f2b",
   "metadata": {},
   "outputs": [],
   "source": [
    "import json #--> to open the data since it is in json form\n",
    "import pandas as pd #--> EDA\n",
    "## below are for doing NLP on the ingredients and creating the model\n",
    "from sklearn.feature_extraction.text import TfidfVectorizer \n",
    "import matplotlib.pyplot as plt\n",
    "import numpy as np\n",
    "from sklearn.model_selection import train_test_split\n",
    "from sklearn.decomposition import KernelPCA\n",
    "from sklearn.linear_model import SGDClassifier\n",
    "from nltk.stem import WordNetLemmatizer\n",
    "import nltk\n",
    "import re\n",
    "import seaborn as sns\n",
    "from sklearn.naive_bayes import MultinomialNB\n",
    "from sklearn.metrics import classification_report\n",
    "from sklearn.metrics import confusion_matrix\n",
    "from sklearn.cluster import KMeans\n",
    "from sklearn.ensemble import RandomForestClassifier\n",
    "import csv\n",
    "from PIL import Image\n",
    "from wordcloud import WordCloud, STOPWORDS"
   ]
  },
  {
   "cell_type": "markdown",
   "id": "6b5a179e",
   "metadata": {},
   "source": [
    "### Exploratory Data Analysis"
   ]
  },
  {
   "cell_type": "code",
   "execution_count": 2,
   "id": "d6443bc1",
   "metadata": {},
   "outputs": [
    {
     "name": "stdout",
     "output_type": "stream",
     "text": [
      "39774\n"
     ]
    }
   ],
   "source": [
    "with open('train.json', 'r') as train_file:\n",
    "    train_data = json.load(train_file)\n",
    "print(len(train_data))"
   ]
  },
  {
   "cell_type": "code",
   "execution_count": 3,
   "id": "0f15a7f9",
   "metadata": {},
   "outputs": [
    {
     "name": "stdout",
     "output_type": "stream",
     "text": [
      "<class 'list'>\n"
     ]
    }
   ],
   "source": [
    "print(type(train_data))"
   ]
  },
  {
   "cell_type": "code",
   "execution_count": 4,
   "id": "e012931b",
   "metadata": {},
   "outputs": [
    {
     "name": "stdout",
     "output_type": "stream",
     "text": [
      "{'id': 10259, 'cuisine': 'greek', 'ingredients': ['romaine lettuce', 'black olives', 'grape tomatoes', 'garlic', 'pepper', 'purple onion', 'seasoning', 'garbanzo beans', 'feta cheese crumbles']}\n"
     ]
    }
   ],
   "source": [
    "print(train_data[0])"
   ]
  },
  {
   "cell_type": "code",
   "execution_count": 5,
   "id": "06fa5c15",
   "metadata": {},
   "outputs": [],
   "source": [
    "# print(train_data[0]['id'])"
   ]
  },
  {
   "cell_type": "code",
   "execution_count": 6,
   "id": "55b3452c",
   "metadata": {},
   "outputs": [],
   "source": [
    "# print(train_data[0]['cuisine'])"
   ]
  },
  {
   "cell_type": "code",
   "execution_count": 7,
   "id": "8dd907a2",
   "metadata": {},
   "outputs": [],
   "source": [
    "# print(train_data[0]['ingredients'])"
   ]
  },
  {
   "cell_type": "code",
   "execution_count": 8,
   "id": "8f31386f",
   "metadata": {},
   "outputs": [],
   "source": [
    "# for x in range(len(train_data)):\n",
    "#     print(train_data[x]['id'])"
   ]
  },
  {
   "cell_type": "code",
   "execution_count": 9,
   "id": "c19ecb28",
   "metadata": {},
   "outputs": [
    {
     "data": {
      "text/html": [
       "<div>\n",
       "<style scoped>\n",
       "    .dataframe tbody tr th:only-of-type {\n",
       "        vertical-align: middle;\n",
       "    }\n",
       "\n",
       "    .dataframe tbody tr th {\n",
       "        vertical-align: top;\n",
       "    }\n",
       "\n",
       "    .dataframe thead th {\n",
       "        text-align: right;\n",
       "    }\n",
       "</style>\n",
       "<table border=\"1\" class=\"dataframe\">\n",
       "  <thead>\n",
       "    <tr style=\"text-align: right;\">\n",
       "      <th></th>\n",
       "      <th>id</th>\n",
       "      <th>cuisine</th>\n",
       "      <th>ingredients</th>\n",
       "    </tr>\n",
       "  </thead>\n",
       "  <tbody>\n",
       "    <tr>\n",
       "      <th>0</th>\n",
       "      <td>10259</td>\n",
       "      <td>greek</td>\n",
       "      <td>[romaine lettuce, black olives, grape tomatoes...</td>\n",
       "    </tr>\n",
       "    <tr>\n",
       "      <th>1</th>\n",
       "      <td>25693</td>\n",
       "      <td>southern_us</td>\n",
       "      <td>[plain flour, ground pepper, salt, tomatoes, g...</td>\n",
       "    </tr>\n",
       "    <tr>\n",
       "      <th>2</th>\n",
       "      <td>20130</td>\n",
       "      <td>filipino</td>\n",
       "      <td>[eggs, pepper, salt, mayonaise, cooking oil, g...</td>\n",
       "    </tr>\n",
       "    <tr>\n",
       "      <th>3</th>\n",
       "      <td>22213</td>\n",
       "      <td>indian</td>\n",
       "      <td>[water, vegetable oil, wheat, salt]</td>\n",
       "    </tr>\n",
       "    <tr>\n",
       "      <th>4</th>\n",
       "      <td>13162</td>\n",
       "      <td>indian</td>\n",
       "      <td>[black pepper, shallots, cornflour, cayenne pe...</td>\n",
       "    </tr>\n",
       "    <tr>\n",
       "      <th>...</th>\n",
       "      <td>...</td>\n",
       "      <td>...</td>\n",
       "      <td>...</td>\n",
       "    </tr>\n",
       "    <tr>\n",
       "      <th>39769</th>\n",
       "      <td>29109</td>\n",
       "      <td>irish</td>\n",
       "      <td>[light brown sugar, granulated sugar, butter, ...</td>\n",
       "    </tr>\n",
       "    <tr>\n",
       "      <th>39770</th>\n",
       "      <td>11462</td>\n",
       "      <td>italian</td>\n",
       "      <td>[KRAFT Zesty Italian Dressing, purple onion, b...</td>\n",
       "    </tr>\n",
       "    <tr>\n",
       "      <th>39771</th>\n",
       "      <td>2238</td>\n",
       "      <td>irish</td>\n",
       "      <td>[eggs, citrus fruit, raisins, sourdough starte...</td>\n",
       "    </tr>\n",
       "    <tr>\n",
       "      <th>39772</th>\n",
       "      <td>41882</td>\n",
       "      <td>chinese</td>\n",
       "      <td>[boneless chicken skinless thigh, minced garli...</td>\n",
       "    </tr>\n",
       "    <tr>\n",
       "      <th>39773</th>\n",
       "      <td>2362</td>\n",
       "      <td>mexican</td>\n",
       "      <td>[green chile, jalapeno chilies, onions, ground...</td>\n",
       "    </tr>\n",
       "  </tbody>\n",
       "</table>\n",
       "<p>39774 rows × 3 columns</p>\n",
       "</div>"
      ],
      "text/plain": [
       "          id      cuisine                                        ingredients\n",
       "0      10259        greek  [romaine lettuce, black olives, grape tomatoes...\n",
       "1      25693  southern_us  [plain flour, ground pepper, salt, tomatoes, g...\n",
       "2      20130     filipino  [eggs, pepper, salt, mayonaise, cooking oil, g...\n",
       "3      22213       indian                [water, vegetable oil, wheat, salt]\n",
       "4      13162       indian  [black pepper, shallots, cornflour, cayenne pe...\n",
       "...      ...          ...                                                ...\n",
       "39769  29109        irish  [light brown sugar, granulated sugar, butter, ...\n",
       "39770  11462      italian  [KRAFT Zesty Italian Dressing, purple onion, b...\n",
       "39771   2238        irish  [eggs, citrus fruit, raisins, sourdough starte...\n",
       "39772  41882      chinese  [boneless chicken skinless thigh, minced garli...\n",
       "39773   2362      mexican  [green chile, jalapeno chilies, onions, ground...\n",
       "\n",
       "[39774 rows x 3 columns]"
      ]
     },
     "execution_count": 9,
     "metadata": {},
     "output_type": "execute_result"
    }
   ],
   "source": [
    "df = pd.DataFrame(train_data, columns =['id', 'cuisine', 'ingredients'], dtype = object) \n",
    "df "
   ]
  },
  {
   "cell_type": "code",
   "execution_count": 10,
   "id": "5b2bd8ab",
   "metadata": {},
   "outputs": [],
   "source": [
    "df['ingredients_string'] = [','.join(map(str, l)) for l in df['ingredients']]"
   ]
  },
  {
   "cell_type": "markdown",
   "id": "785d112d",
   "metadata": {},
   "source": [
    "#### List of cuisine origin region and data amount for each"
   ]
  },
  {
   "cell_type": "code",
   "execution_count": 11,
   "id": "8128dfec",
   "metadata": {},
   "outputs": [
    {
     "data": {
      "text/plain": [
       "<AxesSubplot:>"
      ]
     },
     "execution_count": 11,
     "metadata": {},
     "output_type": "execute_result"
    },
    {
     "data": {
      "image/png": "[encoded data removed]",
      "text/plain": [
       "<Figure size 432x288 with 1 Axes>"
      ]
     },
     "metadata": {
      "needs_background": "light"
     },
     "output_type": "display_data"
    }
   ],
   "source": [
    "df.cuisine.value_counts()\n",
    "df.cuisine.value_counts().plot.bar()"
   ]
  },
  {
   "cell_type": "code",
   "execution_count": 12,
   "id": "bda12157",
   "metadata": {},
   "outputs": [],
   "source": [
    "brazilian = df[df.cuisine == 'brazilian']\n",
    "british = df[df.cuisine == 'british']\n",
    "cajun_creole = df[df.cuisine == 'cajun_creole']\n",
    "chinese = df[df.cuisine == 'chinese']\n",
    "filipino = df[df.cuisine == 'filipino']\n",
    "french = df[df.cuisine == 'french']\n",
    "greek = df[df.cuisine == 'greek']\n",
    "indian = df[df.cuisine == 'indian']\n",
    "irish = df[df.cuisine == 'irish']\n",
    "italian = df[df.cuisine == 'italian']\n",
    "jamaican = df[df.cuisine == 'jamaican']\n",
    "japanese = df[df.cuisine == 'japanese']\n",
    "korean = df[df.cuisine == 'korean']\n",
    "mexican = df[df.cuisine == 'mexican']\n",
    "moroccan = df[df.cuisine == 'moroccan']\n",
    "russian = df[df.cuisine == 'russian']\n",
    "southern_us = df[df.cuisine == 'southern_us']\n",
    "spanish = df[df.cuisine == 'spanish']\n",
    "thai = df[df.cuisine == 'thai']\n",
    "vietnamese = df[df.cuisine == 'vietnamese']"
   ]
  },
  {
   "cell_type": "markdown",
   "id": "ec0d6405",
   "metadata": {},
   "source": [
    "#### Frequently used ingredients in all cuisine"
   ]
  },
  {
   "cell_type": "code",
   "execution_count": 39,
   "id": "5c9e0fe9",
   "metadata": {},
   "outputs": [
    {
     "data": {
      "image/png": "[encoded data removed]",
      "text/plain": [
       "<Figure size 1584x504 with 1 Axes>"
      ]
     },
     "metadata": {
      "needs_background": "light"
     },
     "output_type": "display_data"
    }
   ],
   "source": [
    "fig, ax = plt.subplots(figsize=(22,7))\n",
    "ing_list = []\n",
    "for x in df['ingredients']:\n",
    "    for y in x:\n",
    "        ing_list.append(y)\n",
    "        \n",
    "ing_list = pd.Series(ing_list)\n",
    "ing_list.value_counts().sort_values(ascending=False).head(5).plot.bar(ax=ax, color =['#FFFFF0','#F4A460','#808000','#4169E1','#F5F5DC'])\n",
    "ax.tick_params(axis='x',rotation=360)"
   ]
  },
  {
   "cell_type": "code",
   "execution_count": 84,
   "id": "6c4324d6",
   "metadata": {},
   "outputs": [
    {
     "data": {
      "text/plain": [
       "<Figure size 432x288 with 0 Axes>"
      ]
     },
     "execution_count": 84,
     "metadata": {},
     "output_type": "execute_result"
    },
    {
     "data": {
      "image/png": "[encoded data removed]",
      "text/plain": [
       "<Figure size 432x288 with 1 Axes>"
      ]
     },
     "metadata": {
      "needs_background": "light"
     },
     "output_type": "display_data"
    },
    {
     "data": {
      "text/plain": [
       "<Figure size 432x288 with 0 Axes>"
      ]
     },
     "metadata": {},
     "output_type": "display_data"
    }
   ],
   "source": [
    "top_15_ingredients = ing_list.value_counts().sort_values(ascending=False).head(15)\n",
    "wordtext = ('salt onions olive_oil water garlic sugar butter black_pepper flour vegetable_oil soy_sauce eggs')\n",
    "\n",
    "\n",
    "food_mask = np.array(Image.open(\"food-stencil-37.jpg\"))\n",
    "wc = WordCloud(background_color=\"white\", max_words=15, mask=food_mask,\n",
    "               contour_width=3, contour_color='gray')\n",
    "wc.generate(wordtext)\n",
    "\n",
    "plt.imshow(wc, interpolation='bilinear')\n",
    "plt.axis(\"off\")\n",
    "plt.figure()\n",
    "# plt.imshow(food_mask, cmap=plt.cm.gray, interpolation='bilinear')"
   ]
  },
  {
   "cell_type": "markdown",
   "id": "df73a704",
   "metadata": {},
   "source": [
    "#### Frequently used ingredients in each region cuisine:\n",
    "The ingredients listed already exclude frequently used ingredients across all region cuisine such as salt, onions, water, garlic and sugar. Olive oil is considered to be included since it is more commonly used in european especially italian dishes. Since the data on italian food is bigger in amount compare than others, the result above might be influnce by that fact."
   ]
  },
  {
   "cell_type": "code",
   "execution_count": 14,
   "id": "dc49c58d",
   "metadata": {},
   "outputs": [
    {
     "data": {
      "text/plain": [
       "olive oil       118\n",
       "lime             89\n",
       "cachaca          70\n",
       "tomatoes         63\n",
       "coconut milk     58\n",
       "dtype: int64"
      ]
     },
     "execution_count": 14,
     "metadata": {},
     "output_type": "execute_result"
    }
   ],
   "source": [
    "frequent = ['salt','water','sugar','extra-virgin olive oil','unsalted butter','salted butter','garlic','onions', 'garlic cloves']\n",
    "ing_list = {}\n",
    "\n",
    "brazil_ing_list = []\n",
    "for x in brazilian['ingredients']:\n",
    "    for y in x:\n",
    "        if y not in frequent:\n",
    "            brazil_ing_list.append(y)\n",
    "        \n",
    "brazil_ing_list = pd.Series(brazil_ing_list)\n",
    "brazil_ing_list = brazil_ing_list.value_counts().sort_values(ascending=False).head(5)\n",
    "brazil = {'brazil' : brazil_ing_list.index.tolist()}\n",
    "ing_list.update(brazil)\n",
    "brazil_ing_list"
   ]
  },
  {
   "cell_type": "code",
   "execution_count": 15,
   "id": "13703bdf",
   "metadata": {},
   "outputs": [
    {
     "data": {
      "text/plain": [
       "all-purpose flour    238\n",
       "butter               222\n",
       "milk                 202\n",
       "eggs                 191\n",
       "baking powder        122\n",
       "dtype: int64"
      ]
     },
     "execution_count": 15,
     "metadata": {},
     "output_type": "execute_result"
    }
   ],
   "source": [
    "british_ing_list = []\n",
    "for x in british['ingredients']:\n",
    "    for y in x:\n",
    "        if y not in frequent:\n",
    "            british_ing_list.append(y)\n",
    "        \n",
    "british_ing_list = pd.Series(british_ing_list)\n",
    "british_ing_list = british_ing_list.value_counts().sort_values(ascending=False).head(5)\n",
    "british = {'british' : british_ing_list.index.tolist()}\n",
    "british_ing_list"
   ]
  },
  {
   "cell_type": "code",
   "execution_count": 16,
   "id": "12fb2111",
   "metadata": {},
   "outputs": [],
   "source": [
    "ing_list.update(british)"
   ]
  },
  {
   "cell_type": "code",
   "execution_count": 17,
   "id": "f78a21ec",
   "metadata": {},
   "outputs": [
    {
     "data": {
      "text/plain": [
       "green bell pepper    336\n",
       "butter               334\n",
       "olive oil            316\n",
       "cayenne pepper       297\n",
       "cajun seasoning      293\n",
       "dtype: int64"
      ]
     },
     "execution_count": 17,
     "metadata": {},
     "output_type": "execute_result"
    }
   ],
   "source": [
    "cajun_ing_list = []\n",
    "for x in cajun_creole['ingredients']:\n",
    "    for y in x:\n",
    "        if y not in frequent:\n",
    "            cajun_ing_list.append(y)\n",
    "        \n",
    "cajun_ing_list = pd.Series(cajun_ing_list)\n",
    "cajun_ing_list = cajun_ing_list.value_counts().sort_values(ascending=False).head(5)\n",
    "cajun = {'cajun' : cajun_ing_list.index.tolist()}\n",
    "ing_list.update(cajun)\n",
    "cajun_ing_list"
   ]
  },
  {
   "cell_type": "code",
   "execution_count": 18,
   "id": "e08cee1b",
   "metadata": {},
   "outputs": [
    {
     "data": {
      "text/plain": [
       "soy sauce        1363\n",
       "sesame oil        915\n",
       "corn starch       906\n",
       "green onions      628\n",
       "vegetable oil     602\n",
       "dtype: int64"
      ]
     },
     "execution_count": 18,
     "metadata": {},
     "output_type": "execute_result"
    }
   ],
   "source": [
    "chinese_ing_list = []\n",
    "for x in chinese['ingredients']:\n",
    "    for y in x:\n",
    "        if y not in frequent:\n",
    "            chinese_ing_list.append(y)\n",
    "        \n",
    "chinese_ing_list = pd.Series(chinese_ing_list)\n",
    "chinese_ing_list = chinese_ing_list.value_counts().sort_values(ascending=False).head(5)\n",
    "chinese = {'chinese' : chinese_ing_list.index.tolist()}\n",
    "ing_list.update(chinese)\n",
    "chinese_ing_list"
   ]
  },
  {
   "cell_type": "code",
   "execution_count": 19,
   "id": "9d028527",
   "metadata": {},
   "outputs": [
    {
     "data": {
      "text/plain": [
       "soy sauce              251\n",
       "pepper                 199\n",
       "oil                    166\n",
       "carrots                128\n",
       "ground black pepper    124\n",
       "dtype: int64"
      ]
     },
     "execution_count": 19,
     "metadata": {},
     "output_type": "execute_result"
    }
   ],
   "source": [
    "filipino_ing_list = []\n",
    "for x in filipino['ingredients']:\n",
    "    for y in x:\n",
    "        if y not in frequent:\n",
    "            filipino_ing_list.append(y)\n",
    "        \n",
    "filipino_ing_list = pd.Series(filipino_ing_list)\n",
    "filipino_ing_list = filipino_ing_list.value_counts().sort_values(ascending=False).head(5)\n",
    "filipino = {'filipino' : filipino_ing_list.index.tolist()}\n",
    "ing_list.update(filipino)\n",
    "filipino_ing_list"
   ]
  },
  {
   "cell_type": "code",
   "execution_count": 20,
   "id": "54b4e13c",
   "metadata": {},
   "outputs": [
    {
     "data": {
      "text/plain": [
       "all-purpose flour      593\n",
       "olive oil              516\n",
       "butter                 514\n",
       "large eggs             415\n",
       "ground black pepper    385\n",
       "dtype: int64"
      ]
     },
     "execution_count": 20,
     "metadata": {},
     "output_type": "execute_result"
    }
   ],
   "source": [
    "french_ing_list = []\n",
    "for x in french['ingredients']:\n",
    "    for y in x:\n",
    "        if y not in frequent:\n",
    "            french_ing_list.append(y)\n",
    "        \n",
    "french_ing_list = pd.Series(french_ing_list)\n",
    "french_ing_list = french_ing_list.value_counts().sort_values(ascending=False).head(5)\n",
    "french = {'french' : french_ing_list.index.tolist()}\n",
    "ing_list.update(french)\n",
    "french_ing_list"
   ]
  },
  {
   "cell_type": "code",
   "execution_count": 21,
   "id": "01a554d5",
   "metadata": {},
   "outputs": [
    {
     "data": {
      "text/plain": [
       "olive oil               504\n",
       "dried oregano           267\n",
       "feta cheese crumbles    252\n",
       "fresh lemon juice       222\n",
       "ground black pepper     221\n",
       "dtype: int64"
      ]
     },
     "execution_count": 21,
     "metadata": {},
     "output_type": "execute_result"
    }
   ],
   "source": [
    "greek_ing_list = []\n",
    "for x in greek['ingredients']:\n",
    "    for y in x:\n",
    "        if y not in frequent:\n",
    "            greek_ing_list.append(y)\n",
    "        \n",
    "greek_ing_list = pd.Series(greek_ing_list)\n",
    "greek_ing_list = greek_ing_list.value_counts().sort_values(ascending=False).head(5)\n",
    "greek = {'greek' : greek_ing_list.index.tolist()}\n",
    "ing_list.update(greek)\n",
    "greek_ing_list"
   ]
  },
  {
   "cell_type": "code",
   "execution_count": 22,
   "id": "da38644c",
   "metadata": {},
   "outputs": [
    {
     "data": {
      "text/plain": [
       "butter               219\n",
       "all-purpose flour    219\n",
       "potatoes             120\n",
       "baking soda          115\n",
       "baking powder        112\n",
       "dtype: int64"
      ]
     },
     "execution_count": 22,
     "metadata": {},
     "output_type": "execute_result"
    }
   ],
   "source": [
    "irish_ing_list = []\n",
    "for x in irish['ingredients']:\n",
    "    for y in x:\n",
    "        if y not in frequent:\n",
    "            irish_ing_list.append(y)\n",
    "        \n",
    "irish_ing_list = pd.Series(irish_ing_list)\n",
    "irish_ing_list = irish_ing_list.value_counts().sort_values(ascending=False).head(5)\n",
    "irish = {'irish' : irish_ing_list.index.tolist()}\n",
    "ing_list.update(irish)\n",
    "irish_ing_list"
   ]
  },
  {
   "cell_type": "code",
   "execution_count": 23,
   "id": "cc98f6be",
   "metadata": {},
   "outputs": [
    {
     "data": {
      "text/plain": [
       "olive oil                 3111\n",
       "grated parmesan cheese    1580\n",
       "ground black pepper       1444\n",
       "butter                    1030\n",
       "pepper                     965\n",
       "dtype: int64"
      ]
     },
     "execution_count": 23,
     "metadata": {},
     "output_type": "execute_result"
    }
   ],
   "source": [
    "italian_ing_list = []\n",
    "for x in italian['ingredients']:\n",
    "    for y in x:\n",
    "        if y not in frequent:\n",
    "            italian_ing_list.append(y)\n",
    "        \n",
    "italian_ing_list = pd.Series(italian_ing_list)\n",
    "italian_ing_list = italian_ing_list.value_counts().sort_values(ascending=False).head(5)\n",
    "italian = {'italian' : italian_ing_list.index.tolist()}\n",
    "ing_list.update(italian)\n",
    "italian_ing_list"
   ]
  },
  {
   "cell_type": "code",
   "execution_count": 24,
   "id": "bb9fffff",
   "metadata": {},
   "outputs": [
    {
     "data": {
      "text/plain": [
       "ground allspice    128\n",
       "pepper             125\n",
       "scallions          111\n",
       "dried thyme        105\n",
       "black pepper       103\n",
       "dtype: int64"
      ]
     },
     "execution_count": 24,
     "metadata": {},
     "output_type": "execute_result"
    }
   ],
   "source": [
    "jamaican_ing_list = []\n",
    "for x in jamaican['ingredients']:\n",
    "    for y in x:\n",
    "        if y not in frequent:\n",
    "            jamaican_ing_list.append(y)\n",
    "        \n",
    "jamaican_ing_list = pd.Series(jamaican_ing_list)\n",
    "jamaican_ing_list = jamaican_ing_list.value_counts().sort_values(ascending=False).head(5)\n",
    "jamaican = {'jamaican' : jamaican_ing_list.index.tolist()}\n",
    "ing_list.update(jamaican)\n",
    "jamaican_ing_list"
   ]
  },
  {
   "cell_type": "code",
   "execution_count": 25,
   "id": "a8d3a719",
   "metadata": {},
   "outputs": [
    {
     "data": {
      "text/plain": [
       "soy sauce        561\n",
       "mirin            402\n",
       "sake             289\n",
       "rice vinegar     261\n",
       "vegetable oil    245\n",
       "dtype: int64"
      ]
     },
     "execution_count": 25,
     "metadata": {},
     "output_type": "execute_result"
    }
   ],
   "source": [
    "japanese_ing_list = []\n",
    "for x in japanese['ingredients']:\n",
    "    for y in x:\n",
    "        if y not in frequent:\n",
    "            japanese_ing_list.append(y)\n",
    "        \n",
    "japanese_ing_list = pd.Series(japanese_ing_list)\n",
    "japanese_ing_list = japanese_ing_list.value_counts().sort_values(ascending=False).head(5)\n",
    "japanese = {'japanese' : japanese_ing_list.index.tolist()}\n",
    "ing_list.update(japanese)\n",
    "japanese_ing_list"
   ]
  },
  {
   "cell_type": "code",
   "execution_count": 26,
   "id": "e9c8f778",
   "metadata": {},
   "outputs": [
    {
     "data": {
      "text/plain": [
       "soy sauce       427\n",
       "sesame oil      403\n",
       "green onions    293\n",
       "sesame seeds    223\n",
       "scallions       196\n",
       "dtype: int64"
      ]
     },
     "execution_count": 26,
     "metadata": {},
     "output_type": "execute_result"
    }
   ],
   "source": [
    "korean_ing_list = []\n",
    "for x in korean['ingredients']:\n",
    "    for y in x:\n",
    "        if y not in frequent:\n",
    "            korean_ing_list.append(y)\n",
    "        \n",
    "korean_ing_list = pd.Series(korean_ing_list)\n",
    "korean_ing_list = korean_ing_list.value_counts().sort_values(ascending=False).head(5)\n",
    "korean = {'korean' : korean_ing_list.index.tolist()}\n",
    "ing_list.update(korean)\n",
    "korean_ing_list"
   ]
  },
  {
   "cell_type": "code",
   "execution_count": 27,
   "id": "c2d69f65",
   "metadata": {},
   "outputs": [
    {
     "data": {
      "text/plain": [
       "ground cumin        1346\n",
       "olive oil           1289\n",
       "chili powder        1236\n",
       "jalapeno chilies    1146\n",
       "sour cream          1076\n",
       "dtype: int64"
      ]
     },
     "execution_count": 27,
     "metadata": {},
     "output_type": "execute_result"
    }
   ],
   "source": [
    "mexican_ing_list = []\n",
    "for x in mexican['ingredients']:\n",
    "    for y in x:\n",
    "        if y not in frequent:\n",
    "            mexican_ing_list.append(y)\n",
    "        \n",
    "mexican_ing_list = pd.Series(mexican_ing_list)\n",
    "mexican_ing_list = mexican_ing_list.value_counts().sort_values(ascending=False).head(5)\n",
    "mexican = {'mexican' : mexican_ing_list.index.tolist()}\n",
    "ing_list.update(mexican)\n",
    "mexican_ing_list"
   ]
  },
  {
   "cell_type": "code",
   "execution_count": 28,
   "id": "724e5b3b",
   "metadata": {},
   "outputs": [
    {
     "data": {
      "text/plain": [
       "olive oil          412\n",
       "ground cumin       348\n",
       "ground cinnamon    223\n",
       "ground ginger      175\n",
       "carrots            155\n",
       "dtype: int64"
      ]
     },
     "execution_count": 28,
     "metadata": {},
     "output_type": "execute_result"
    }
   ],
   "source": [
    "moroccan_ing_list = []\n",
    "for x in moroccan['ingredients']:\n",
    "    for y in x:\n",
    "        if y not in frequent:\n",
    "            moroccan_ing_list.append(y)\n",
    "        \n",
    "moroccan_ing_list = pd.Series(moroccan_ing_list)\n",
    "moroccan_ing_list = moroccan_ing_list.value_counts().sort_values(ascending=False).head(5)\n",
    "moroccan = {'moroccan' : moroccan_ing_list.index.tolist()}\n",
    "ing_list.update(moroccan)\n",
    "moroccan_ing_list"
   ]
  },
  {
   "cell_type": "code",
   "execution_count": 29,
   "id": "93537bed",
   "metadata": {},
   "outputs": [
    {
     "data": {
      "text/plain": [
       "all-purpose flour    123\n",
       "sour cream           117\n",
       "eggs                 112\n",
       "butter               104\n",
       "large eggs            85\n",
       "dtype: int64"
      ]
     },
     "execution_count": 29,
     "metadata": {},
     "output_type": "execute_result"
    }
   ],
   "source": [
    "russian_ing_list = []\n",
    "for x in russian['ingredients']:\n",
    "    for y in x:\n",
    "        if y not in frequent:\n",
    "            russian_ing_list.append(y)\n",
    "        \n",
    "russian_ing_list = pd.Series(russian_ing_list)\n",
    "russian_ing_list = russian_ing_list.value_counts().sort_values(ascending=False).head(5)\n",
    "russian = {'russian' : russian_ing_list.index.tolist()}\n",
    "ing_list.update(russian)\n",
    "russian_ing_list"
   ]
  },
  {
   "cell_type": "code",
   "execution_count": 30,
   "id": "24af0d91",
   "metadata": {},
   "outputs": [
    {
     "data": {
      "text/plain": [
       "butter               1255\n",
       "all-purpose flour    1222\n",
       "large eggs            746\n",
       "baking powder         729\n",
       "milk                  645\n",
       "dtype: int64"
      ]
     },
     "execution_count": 30,
     "metadata": {},
     "output_type": "execute_result"
    }
   ],
   "source": [
    "southern_us_ing_list = []\n",
    "for x in southern_us['ingredients']:\n",
    "    for y in x:\n",
    "        if y not in frequent:\n",
    "            southern_us_ing_list.append(y)\n",
    "        \n",
    "southern_us_ing_list = pd.Series(southern_us_ing_list)\n",
    "southern_us_ing_list = southern_us_ing_list.value_counts().sort_values(ascending=False).head(5)\n",
    "southern_us = {'southern_us' : southern_us_ing_list.index.tolist()}\n",
    "ing_list.update(southern_us)\n",
    "southern_us_ing_list"
   ]
  },
  {
   "cell_type": "code",
   "execution_count": 31,
   "id": "68faf145",
   "metadata": {},
   "outputs": [
    {
     "data": {
      "text/plain": [
       "olive oil              387\n",
       "tomatoes               151\n",
       "ground black pepper    149\n",
       "red bell pepper        142\n",
       "pepper                 133\n",
       "dtype: int64"
      ]
     },
     "execution_count": 31,
     "metadata": {},
     "output_type": "execute_result"
    }
   ],
   "source": [
    "spanish_ing_list = []\n",
    "for x in spanish['ingredients']:\n",
    "    for y in x:\n",
    "        if y not in frequent:\n",
    "            spanish_ing_list.append(y)\n",
    "        \n",
    "spanish_ing_list = pd.Series(spanish_ing_list)\n",
    "spanish_ing_list = spanish_ing_list.value_counts().sort_values(ascending=False).head(5)\n",
    "spanish = {'spanish' : spanish_ing_list.index.tolist()}\n",
    "ing_list.update(spanish)\n",
    "spanish_ing_list\n"
   ]
  },
  {
   "cell_type": "code",
   "execution_count": 32,
   "id": "c9e66607",
   "metadata": {},
   "outputs": [
    {
     "data": {
      "text/plain": [
       "fish sauce          625\n",
       "coconut milk        353\n",
       "vegetable oil       335\n",
       "soy sauce           332\n",
       "fresh lime juice    273\n",
       "dtype: int64"
      ]
     },
     "execution_count": 32,
     "metadata": {},
     "output_type": "execute_result"
    }
   ],
   "source": [
    "thai_ing_list = []\n",
    "for x in thai['ingredients']:\n",
    "    for y in x:\n",
    "        if y not in frequent:\n",
    "            thai_ing_list.append(y)\n",
    "        \n",
    "thai_ing_list = pd.Series(thai_ing_list)\n",
    "thai_ing_list = thai_ing_list.value_counts().sort_values(ascending=False).head(5)\n",
    "thai = {'thai' : thai_ing_list.index.tolist()}\n",
    "ing_list.update(thai)\n",
    "thai_ing_list\n"
   ]
  },
  {
   "cell_type": "code",
   "execution_count": 33,
   "id": "98a153ca",
   "metadata": {},
   "outputs": [
    {
     "data": {
      "text/plain": [
       "fish sauce       392\n",
       "carrots          196\n",
       "soy sauce        155\n",
       "shallots         151\n",
       "vegetable oil    145\n",
       "dtype: int64"
      ]
     },
     "execution_count": 33,
     "metadata": {},
     "output_type": "execute_result"
    }
   ],
   "source": [
    "vietnamese_ing_list = []\n",
    "for x in vietnamese['ingredients']:\n",
    "    for y in x:\n",
    "        if y not in frequent:\n",
    "            vietnamese_ing_list.append(y)\n",
    "        \n",
    "vietnamese_ing_list = pd.Series(vietnamese_ing_list)\n",
    "vietnamese_ing_list = vietnamese_ing_list.value_counts().sort_values(ascending=False).head(5)\n",
    "vietnamese = {'vietnamese' : vietnamese_ing_list.index.tolist()}\n",
    "ing_list.update(vietnamese)\n",
    "vietnamese_ing_list"
   ]
  },
  {
   "cell_type": "markdown",
   "id": "04f4ef67",
   "metadata": {},
   "source": [
    "### Edited dataset\n",
    "The edited dataset is for a more balance amount of cuisine from each region and in order to decrease burden on machine."
   ]
  },
  {
   "cell_type": "code",
   "execution_count": 34,
   "id": "a9244abc",
   "metadata": {},
   "outputs": [],
   "source": [
    "df_edit= pd.read_csv(\"cuisine_data_edited.csv\")"
   ]
  },
  {
   "cell_type": "code",
   "execution_count": 35,
   "id": "1b6d6b57",
   "metadata": {},
   "outputs": [
    {
     "data": {
      "text/plain": [
       "<AxesSubplot:>"
      ]
     },
     "execution_count": 35,
     "metadata": {},
     "output_type": "execute_result"
    },
    {
     "data": {
      "image/png": "[encoded data removed]",
      "text/plain": [
       "<Figure size 432x288 with 1 Axes>"
      ]
     },
     "metadata": {
      "needs_background": "light"
     },
     "output_type": "display_data"
    }
   ],
   "source": [
    "df_edit.cuisine.value_counts().plot.bar()"
   ]
  },
  {
   "cell_type": "code",
   "execution_count": 36,
   "id": "b6676eb8",
   "metadata": {},
   "outputs": [
    {
     "data": {
      "text/plain": [
       "17185"
      ]
     },
     "execution_count": 36,
     "metadata": {},
     "output_type": "execute_result"
    }
   ],
   "source": [
    "len(df_edit)"
   ]
  },
  {
   "cell_type": "markdown",
   "id": "8aa193a3",
   "metadata": {},
   "source": [
    "### Preprocessing data for NLP analysis:\n",
    "For this problem, NLP is used. Basically the approach for this case will be determining how often several ingredients used in a cuisine from certain region. The ingredients information itself is in form of words. Hence, NLP is suitable to calculate ingredients matrix. \n",
    "The pre-processing include: \n",
    "1. Deleting certain words (crushed, crumble, ground). The ingredients in dataset also included processing description such as crushed, crumbles, ground etc which will affect the categorizing. Same ingredients such as garlic and crushed garlic will be categorized differently.\n",
    "2. Lowering the character\n",
    "\n",
    "The more usual technique for NLP such as lemmatization is not included since most of the word in ingredients is in their original form. "
   ]
  },
  {
   "cell_type": "code",
   "execution_count": 85,
   "id": "14050b84",
   "metadata": {},
   "outputs": [
    {
     "name": "stderr",
     "output_type": "stream",
     "text": [
      "C:\\Users\\Adinda Gita\\AppData\\Local\\Temp\\ipykernel_8896\\1270986573.py:6: SettingWithCopyWarning: \n",
      "A value is trying to be set on a copy of a slice from a DataFrame\n",
      "\n",
      "See the caveats in the documentation: https://pandas.pydata.org/pandas-docs/stable/user_guide/indexing.html#returning-a-view-versus-a-copy\n",
      "  df_edit['ingredients_string'][i] = ings\n"
     ]
    }
   ],
   "source": [
    "ingredients_list = []\n",
    "for i in range(len(df_edit)-1):\n",
    "    ings = re.sub(r'\\(.*oz.\\)|crushed|crumbles|ground|minced|chopped|sliced|dried|all-purpose|extra|salted|unsalted',' ', df_edit['ingredients_string'][i])\n",
    "    ings = re.sub(' ','',ings)\n",
    "    ings = ings.lower()\n",
    "    df_edit['ingredients_string'][i] = ings"
   ]
  },
  {
   "cell_type": "code",
   "execution_count": null,
   "id": "63b8e412",
   "metadata": {},
   "outputs": [],
   "source": [
    "df_edit"
   ]
  },
  {
   "cell_type": "markdown",
   "id": "9631f8c3",
   "metadata": {},
   "source": [
    "#### TF-IDF\n",
    "Term Frequency - Inverse Document Frequency = Is a technique to quantify words in set of document. \n",
    "The formula:\n",
    "TF-IDF = Term Frequency (TF) * Inverse Document Frequency (IDF)\n",
    "tf-idf(t,d) = tf(t,d) * log(N/(df+1))\n",
    "t - term (word)\n",
    "d - document (set of words)\n",
    "N - count of corpus\n",
    "corpus - total set of documents\n",
    "\n",
    "In this context, the amount of ingredients will be the term(word) counted while recipes count of documents.This way we will measure how importants an ingredients(word) in dished from a region(document)"
   ]
  },
  {
   "cell_type": "code",
   "execution_count": null,
   "id": "9e5e330b",
   "metadata": {},
   "outputs": [],
   "source": [
    "tfid = TfidfVectorizer()"
   ]
  },
  {
   "cell_type": "code",
   "execution_count": 146,
   "id": "6e42e4bf",
   "metadata": {},
   "outputs": [],
   "source": [
    "X = tfid.fit_transform(df_edit[\"ingredients_string\"].tolist())\n",
    "y = df_edit.cuisine.astype(\"category\").cat.codes"
   ]
  },
  {
   "cell_type": "markdown",
   "id": "1add0cb4",
   "metadata": {},
   "source": [
    "#### PCA\n",
    "Principal Component Analysis is a dimensionality reduction method that usually used when data correlated with each other. In this case, we would like to see the mapping of cuisine to each other from different geographic area. For this, I've only selected a representation for each area. Southern_us represent north america, italian represent Europe, Chinese represent East Asian, Moroccan represent Africa and Brazilian represent south america."
   ]
  },
  {
   "cell_type": "code",
   "execution_count": 156,
   "id": "43eb94b4",
   "metadata": {},
   "outputs": [],
   "source": [
    "cuisine_name_list = df_edit.cuisine.astype(\"category\").cat.categories\n",
    "cuisine_subset = ['southern_us','italian','chinese','moroccan','brazilian']\n",
    "# 'indian','chinese','thai','japanese','korean','vietnamese','moroccan','filipino'\n",
    "# 'southern_us','spanish','chinese','moroccan','jamaican'\n",
    "# italian,mexican,southern_us,indian,chinese,french,cajun_creole,thai,japanese,greek,spanish,korean,vietnamese,moroccan,british,filipino,irish,jamaican,russian,brazilian\n",
    "subset = df_edit.cuisine.apply(lambda x: x in cuisine_subset)\n",
    "X_subset, y_subset = X[subset], y[subset]"
   ]
  },
  {
   "cell_type": "code",
   "execution_count": 157,
   "id": "01eb9feb",
   "metadata": {},
   "outputs": [
    {
     "data": {
      "text/plain": [
       "(4292, 2)"
      ]
     },
     "execution_count": 157,
     "metadata": {},
     "output_type": "execute_result"
    }
   ],
   "source": [
    "kpca = KernelPCA(n_components=2, kernel='cosine')\n",
    "x_pca = kpca.fit_transform(X_subset)\n",
    "x_pca.shape"
   ]
  },
  {
   "cell_type": "code",
   "execution_count": 158,
   "id": "e5809d0a",
   "metadata": {},
   "outputs": [
    {
     "name": "stderr",
     "output_type": "stream",
     "text": [
      "C:\\Users\\Adinda Gita\\anaconda3\\lib\\site-packages\\seaborn\\_decorators.py:36: FutureWarning: Pass the following variables as keyword args: x, y. From version 0.12, the only valid positional argument will be `data`, and passing other arguments without an explicit keyword will result in an error or misinterpretation.\n",
      "  warnings.warn(\n"
     ]
    },
    {
     "data": {
      "text/plain": [
       "<seaborn.axisgrid.FacetGrid at 0x1ad80111250>"
      ]
     },
     "execution_count": 158,
     "metadata": {},
     "output_type": "execute_result"
    },
    {
     "data": {
      "image/png": "[encoded data removed]",
      "text/plain": [
       "<Figure size 457x360 with 1 Axes>"
      ]
     },
     "metadata": {
      "needs_background": "light"
     },
     "output_type": "display_data"
    }
   ],
   "source": [
    "plot_pca = pd.DataFrame(data = x_pca[:,:2], columns = [\"PC1\",\"PC2\"])\n",
    "plot_pca[\"Cuisine\"] = cuisine_name_list[y_subset].tolist()\n",
    "sns.lmplot(\"PC1\", \"PC2\", data = plot_pca, palette = \"Paired\",legend=True, hue = \"Cuisine\", fit_reg = False)"
   ]
  },
  {
   "cell_type": "markdown",
   "id": "2225931b",
   "metadata": {},
   "source": [
    "From graph above, a rough image of how a cuisine diverge or closer from each other in terms of ingredient could be seen. It is quite unique that moroccah, southern US and Brazillian cuisine shared a lot of ingredients with Italian cuisine at some points. If using only informations on above section on what ingredients are commonly used, italian, brazilian and moroccan dishes uses olive oil frequently.  While a commonly shared ingredients between Southern US and Italian food is butter. It would be interesting to see how cultural exchange happen between this country and how it affects each of their cuisine. Or maybe it has to do with how easy it is to get an olive oil in those regions. As for Chinese, it is the most diverge one from the other. "
   ]
  },
  {
   "cell_type": "markdown",
   "id": "dba49847",
   "metadata": {},
   "source": [
    "#### K-means neighboring\n"
   ]
  },
  {
   "cell_type": "code",
   "execution_count": 306,
   "id": "d800b1dd",
   "metadata": {},
   "outputs": [
    {
     "data": {
      "text/plain": [
       "array([0, 2, 2, ..., 0, 0, 0])"
      ]
     },
     "execution_count": 306,
     "metadata": {},
     "output_type": "execute_result"
    }
   ],
   "source": [
    "true_k = 2\n",
    "model = KMeans(n_clusters=3)\n",
    "label = model.fit_predict(x_pca)\n",
    "label"
   ]
  },
  {
   "cell_type": "code",
   "execution_count": 307,
   "id": "d0bfdb7a",
   "metadata": {},
   "outputs": [
    {
     "data": {
      "image/png": "[encoded data removed]",
      "text/plain": [
       "<Figure size 432x288 with 1 Axes>"
      ]
     },
     "metadata": {
      "needs_background": "light"
     },
     "output_type": "display_data"
    }
   ],
   "source": [
    "#filter rows of original data\n",
    "x_pca_label0 = x_pca[label == 0]\n",
    "x_pca_label1 = x_pca[label == 1]\n",
    "x_pca_label2 = x_pca[label == 2]\n",
    "#plotting the results\n",
    "plt.scatter(x_pca_label0[:,0] , x_pca_label0[:,1], color='blue')\n",
    "plt.scatter(x_pca_label1[:,0] , x_pca_label1[:,1], color='red')\n",
    "plt.scatter(x_pca_label2[:,0] , x_pca_label2[:,1], color='orange')\n",
    "plt.show()"
   ]
  },
  {
   "cell_type": "markdown",
   "id": "c54ac5e6",
   "metadata": {},
   "source": [
    "## Modelling"
   ]
  },
  {
   "cell_type": "markdown",
   "id": "7de46e01",
   "metadata": {},
   "source": [
    "#### Splitting training and test data"
   ]
  },
  {
   "cell_type": "code",
   "execution_count": 308,
   "id": "cd69e716",
   "metadata": {},
   "outputs": [
    {
     "name": "stdout",
     "output_type": "stream",
     "text": [
      "(12029, 5120)\n",
      "(12029,)\n"
     ]
    }
   ],
   "source": [
    "X_train, X_test, y_train, y_test = train_test_split(X, y, test_size=0.3)\n",
    "print(X_train.shape)\n",
    "print(y_train.shape)"
   ]
  },
  {
   "cell_type": "markdown",
   "id": "bb706972",
   "metadata": {},
   "source": [
    "### Multinomial Bayes Classifier\n",
    "The matrix from TF-IDF use as an input into Multinomial Bayes Classifier method. Naive Bayes is a probabilistic approach for constructing data classification model. It is commonly used in Natural Language Processing. Bayes classifier will categorized by calculating probability by using the amount of certain text. Using TF-IDF could improve this model since TF-IDF give more wieght on more frequently used words. "
   ]
  },
  {
   "cell_type": "code",
   "execution_count": 318,
   "id": "9e8b372a",
   "metadata": {},
   "outputs": [],
   "source": [
    "bayes = MultinomialNB()"
   ]
  },
  {
   "cell_type": "code",
   "execution_count": 319,
   "id": "38cd84fb",
   "metadata": {},
   "outputs": [
    {
     "data": {
      "text/plain": [
       "MultinomialNB()"
      ]
     },
     "execution_count": 319,
     "metadata": {},
     "output_type": "execute_result"
    }
   ],
   "source": [
    "bayes.fit(X_train, y_train)"
   ]
  },
  {
   "cell_type": "code",
   "execution_count": 320,
   "id": "819a7b96",
   "metadata": {},
   "outputs": [],
   "source": [
    "y_pred = bayes.predict(X_test)"
   ]
  },
  {
   "cell_type": "code",
   "execution_count": 321,
   "id": "8b399817",
   "metadata": {},
   "outputs": [
    {
     "data": {
      "text/html": [
       "<div>\n",
       "<style scoped>\n",
       "    .dataframe tbody tr th:only-of-type {\n",
       "        vertical-align: middle;\n",
       "    }\n",
       "\n",
       "    .dataframe tbody tr th {\n",
       "        vertical-align: top;\n",
       "    }\n",
       "\n",
       "    .dataframe thead th {\n",
       "        text-align: right;\n",
       "    }\n",
       "</style>\n",
       "<table border=\"1\" class=\"dataframe\">\n",
       "  <thead>\n",
       "    <tr style=\"text-align: right;\">\n",
       "      <th></th>\n",
       "      <th>prediction</th>\n",
       "      <th>test</th>\n",
       "    </tr>\n",
       "  </thead>\n",
       "  <tbody>\n",
       "    <tr>\n",
       "      <th>16441</th>\n",
       "      <td>19</td>\n",
       "      <td>19</td>\n",
       "    </tr>\n",
       "    <tr>\n",
       "      <th>6111</th>\n",
       "      <td>2</td>\n",
       "      <td>2</td>\n",
       "    </tr>\n",
       "    <tr>\n",
       "      <th>14824</th>\n",
       "      <td>14</td>\n",
       "      <td>14</td>\n",
       "    </tr>\n",
       "    <tr>\n",
       "      <th>5349</th>\n",
       "      <td>5</td>\n",
       "      <td>5</td>\n",
       "    </tr>\n",
       "    <tr>\n",
       "      <th>4063</th>\n",
       "      <td>19</td>\n",
       "      <td>3</td>\n",
       "    </tr>\n",
       "    <tr>\n",
       "      <th>8471</th>\n",
       "      <td>3</td>\n",
       "      <td>11</td>\n",
       "    </tr>\n",
       "    <tr>\n",
       "      <th>2778</th>\n",
       "      <td>2</td>\n",
       "      <td>16</td>\n",
       "    </tr>\n",
       "    <tr>\n",
       "      <th>1757</th>\n",
       "      <td>13</td>\n",
       "      <td>13</td>\n",
       "    </tr>\n",
       "    <tr>\n",
       "      <th>1748</th>\n",
       "      <td>13</td>\n",
       "      <td>13</td>\n",
       "    </tr>\n",
       "    <tr>\n",
       "      <th>527</th>\n",
       "      <td>16</td>\n",
       "      <td>9</td>\n",
       "    </tr>\n",
       "  </tbody>\n",
       "</table>\n",
       "</div>"
      ],
      "text/plain": [
       "       prediction  test\n",
       "16441          19    19\n",
       "6111            2     2\n",
       "14824          14    14\n",
       "5349            5     5\n",
       "4063           19     3\n",
       "8471            3    11\n",
       "2778            2    16\n",
       "1757           13    13\n",
       "1748           13    13\n",
       "527            16     9"
      ]
     },
     "execution_count": 321,
     "metadata": {},
     "output_type": "execute_result"
    }
   ],
   "source": [
    "y_pred_list = y_pred.tolist()\n",
    "y_test\n",
    "df_pred_test = pd.DataFrame({'prediction':y_pred_list, 'test':y_test})\n",
    "df_pred_test.head(10)"
   ]
  },
  {
   "cell_type": "code",
   "execution_count": 322,
   "id": "62155e97",
   "metadata": {},
   "outputs": [
    {
     "name": "stdout",
     "output_type": "stream",
     "text": [
      "              precision    recall  f1-score   support\n",
      "\n",
      "           0       0.89      0.30      0.45       134\n",
      "           1       0.54      0.49      0.51       237\n",
      "           2       0.54      0.81      0.65       286\n",
      "           3       0.59      0.82      0.69       297\n",
      "           4       0.82      0.59      0.69       231\n",
      "           5       0.45      0.59      0.51       299\n",
      "           6       0.65      0.75      0.70       298\n",
      "           7       0.74      0.85      0.79       311\n",
      "           8       0.82      0.34      0.48       195\n",
      "           9       0.75      0.60      0.67       336\n",
      "          10       0.97      0.48      0.64       152\n",
      "          11       0.91      0.64      0.75       314\n",
      "          12       0.85      0.80      0.82       243\n",
      "          13       0.79      0.84      0.81       289\n",
      "          14       0.81      0.85      0.83       238\n",
      "          15       0.96      0.18      0.30       154\n",
      "          16       0.38      0.61      0.47       282\n",
      "          17       0.58      0.62      0.60       282\n",
      "          18       0.66      0.82      0.73       329\n",
      "          19       0.76      0.49      0.60       249\n",
      "\n",
      "    accuracy                           0.66      5156\n",
      "   macro avg       0.72      0.62      0.63      5156\n",
      "weighted avg       0.70      0.66      0.65      5156\n",
      "\n"
     ]
    }
   ],
   "source": [
    "print(classification_report(y_test, y_pred))"
   ]
  },
  {
   "cell_type": "markdown",
   "id": "02fb254b",
   "metadata": {},
   "source": [
    "### Random Forest\n",
    "Random forest is a method of producing a single result from multiple trees. The output of random forest is the class selected by most trees"
   ]
  },
  {
   "cell_type": "code",
   "execution_count": 330,
   "id": "f102f7e4",
   "metadata": {},
   "outputs": [
    {
     "data": {
      "text/plain": [
       "RandomForestClassifier()"
      ]
     },
     "execution_count": 330,
     "metadata": {},
     "output_type": "execute_result"
    }
   ],
   "source": [
    "clf = RandomForestClassifier()\n",
    "clf.fit(X_train, y_train)"
   ]
  },
  {
   "cell_type": "code",
   "execution_count": 331,
   "id": "6a7c7eb6",
   "metadata": {},
   "outputs": [],
   "source": [
    "y_pred_clf = clf.predict(X_test)"
   ]
  },
  {
   "cell_type": "code",
   "execution_count": 332,
   "id": "b5ca411f",
   "metadata": {},
   "outputs": [
    {
     "data": {
      "text/html": [
       "<div>\n",
       "<style scoped>\n",
       "    .dataframe tbody tr th:only-of-type {\n",
       "        vertical-align: middle;\n",
       "    }\n",
       "\n",
       "    .dataframe tbody tr th {\n",
       "        vertical-align: top;\n",
       "    }\n",
       "\n",
       "    .dataframe thead th {\n",
       "        text-align: right;\n",
       "    }\n",
       "</style>\n",
       "<table border=\"1\" class=\"dataframe\">\n",
       "  <thead>\n",
       "    <tr style=\"text-align: right;\">\n",
       "      <th></th>\n",
       "      <th>prediction</th>\n",
       "      <th>test</th>\n",
       "    </tr>\n",
       "  </thead>\n",
       "  <tbody>\n",
       "    <tr>\n",
       "      <th>16441</th>\n",
       "      <td>19</td>\n",
       "      <td>19</td>\n",
       "    </tr>\n",
       "    <tr>\n",
       "      <th>6111</th>\n",
       "      <td>2</td>\n",
       "      <td>2</td>\n",
       "    </tr>\n",
       "    <tr>\n",
       "      <th>14824</th>\n",
       "      <td>14</td>\n",
       "      <td>14</td>\n",
       "    </tr>\n",
       "    <tr>\n",
       "      <th>5349</th>\n",
       "      <td>5</td>\n",
       "      <td>5</td>\n",
       "    </tr>\n",
       "    <tr>\n",
       "      <th>4063</th>\n",
       "      <td>19</td>\n",
       "      <td>3</td>\n",
       "    </tr>\n",
       "    <tr>\n",
       "      <th>8471</th>\n",
       "      <td>3</td>\n",
       "      <td>11</td>\n",
       "    </tr>\n",
       "    <tr>\n",
       "      <th>2778</th>\n",
       "      <td>2</td>\n",
       "      <td>16</td>\n",
       "    </tr>\n",
       "    <tr>\n",
       "      <th>1757</th>\n",
       "      <td>17</td>\n",
       "      <td>13</td>\n",
       "    </tr>\n",
       "    <tr>\n",
       "      <th>1748</th>\n",
       "      <td>13</td>\n",
       "      <td>13</td>\n",
       "    </tr>\n",
       "    <tr>\n",
       "      <th>527</th>\n",
       "      <td>8</td>\n",
       "      <td>9</td>\n",
       "    </tr>\n",
       "  </tbody>\n",
       "</table>\n",
       "</div>"
      ],
      "text/plain": [
       "       prediction  test\n",
       "16441          19    19\n",
       "6111            2     2\n",
       "14824          14    14\n",
       "5349            5     5\n",
       "4063           19     3\n",
       "8471            3    11\n",
       "2778            2    16\n",
       "1757           17    13\n",
       "1748           13    13\n",
       "527             8     9"
      ]
     },
     "execution_count": 332,
     "metadata": {},
     "output_type": "execute_result"
    }
   ],
   "source": [
    "y_pred_clf_list = y_pred_clf.tolist()\n",
    "df_pred_test = pd.DataFrame({'prediction':y_pred_clf_list, 'test':y_test})\n",
    "df_pred_test.head(10)"
   ]
  },
  {
   "cell_type": "code",
   "execution_count": 333,
   "id": "e3998b89",
   "metadata": {},
   "outputs": [
    {
     "data": {
      "text/plain": [
       "0.6508921644685803"
      ]
     },
     "execution_count": 333,
     "metadata": {},
     "output_type": "execute_result"
    }
   ],
   "source": [
    "clf.score(X_test,y_test)"
   ]
  },
  {
   "cell_type": "code",
   "execution_count": 103,
   "id": "055cf159",
   "metadata": {},
   "outputs": [
    {
     "data": {
      "text/plain": [
       "['all-purpose flour',\n",
       " 'olive oil',\n",
       " 'butter',\n",
       " 'large eggs',\n",
       " 'ground black pepper']"
      ]
     },
     "execution_count": 103,
     "metadata": {},
     "output_type": "execute_result"
    }
   ],
   "source": [
    "ing_list['french']"
   ]
  },
  {
   "cell_type": "code",
   "execution_count": 96,
   "id": "d1c664ba",
   "metadata": {},
   "outputs": [
    {
     "data": {
      "text/plain": [
       "dict_keys(['brazil', 'british', 'cajun', 'chinese', 'filipino', 'french', 'greek', 'irish', 'italian', 'jamaican', 'japanese', 'korean', 'mexican', 'moroccan', 'russian', 'southern_us', 'spanish', 'thai', 'vietnamese'])"
      ]
     },
     "execution_count": 96,
     "metadata": {},
     "output_type": "execute_result"
    }
   ],
   "source": [
    "# ingredients_list = ['brazil','british','cajun','chinese','filipino','french','greek','irish','italian','jamaican','japanese','korean','mexican','moroccan','russian','southern_us','spanish','thai','vietnamese']\n",
    "\n",
    "# with open('tableau_ingredients.csv', 'w') as csvfile:\n",
    "#     writer = csv.DictWriter(csvfile,fieldnames=ingredients_list)\n",
    "#     writer.writeheader()\n",
    "#     writer.writerows(ing_list)\n",
    "ing_list.keys()"
   ]
  },
  {
   "cell_type": "code",
   "execution_count": null,
   "id": "a2553290",
   "metadata": {},
   "outputs": [],
   "source": []
  },
  {
   "cell_type": "code",
   "execution_count": null,
   "id": "26690428",
   "metadata": {},
   "outputs": [],
   "source": []
  },
  {
   "cell_type": "code",
   "execution_count": null,
   "id": "cf22b694",
   "metadata": {},
   "outputs": [],
   "source": []
  },
  {
   "cell_type": "code",
   "execution_count": null,
   "id": "e5012e9f",
   "metadata": {},
   "outputs": [],
   "source": []
  }
 ],
 "metadata": {
  "kernelspec": {
   "display_name": "Python 3 (ipykernel)",
   "language": "python",
   "name": "python3"
  },
  "language_info": {
   "codemirror_mode": {
    "name": "ipython",
    "version": 3
   },
   "file_extension": ".py",
   "mimetype": "text/x-python",
   "name": "python",
   "nbconvert_exporter": "python",
   "pygments_lexer": "ipython3",
   "version": "3.9.12"
  }
 },
 "nbformat": 4,
 "nbformat_minor": 5
}
